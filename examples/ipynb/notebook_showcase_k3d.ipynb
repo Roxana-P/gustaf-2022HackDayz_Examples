{
 "cells": [
  {
   "cell_type": "code",
   "execution_count": null,
   "metadata": {},
   "outputs": [],
   "source": [
    "import gustaf as gus\n",
    "import vedo\n",
    "\n",
    "vedo.settings.default_backend = \"k3d\""
   ]
  },
  {
   "cell_type": "code",
   "execution_count": null,
   "metadata": {},
   "outputs": [],
   "source": [
    "mesh_faces_box = gus.create.faces.box(\n",
    "    bounds=[[0, 0], [2, 2]], resolutions=[2, 3]\n",
    ")\n",
    "mesh_faces_box.show_options[\"c\"] = 6\n",
    "a = mesh_faces_box.show(axes=1)"
   ]
  },
  {
   "cell_type": "markdown",
   "metadata": {},
   "source": [
    "Volumes does not create an error anymore. Currently is exchanged to volumes.to_faces() might be able to be exchanged back to true volume plotting if vedo fixes UGrid."
   ]
  },
  {
   "cell_type": "code",
   "execution_count": null,
   "metadata": {},
   "outputs": [],
   "source": [
    "mesh_volumes_box = gus.create.volumes.box(\n",
    "    bounds=[[0.0, 0.0, 0.0], [1.0, 1.0, 1.0]], resolutions=[2, 3, 4]\n",
    ")\n",
    "mesh_volumes_box.show()"
   ]
  },
  {
   "cell_type": "code",
   "execution_count": null,
   "metadata": {},
   "outputs": [],
   "source": [
    "mesh_faces_triangle = gus.create.faces.box(\n",
    "    bounds=[[0, 0], [2, 2]],\n",
    "    resolutions=[3, 3],\n",
    "    simplex=True,\n",
    ")\n",
    "mesh_faces_triangle.show()\n",
    "print(mesh_faces_triangle.bounds())"
   ]
  },
  {
   "cell_type": "code",
   "execution_count": null,
   "metadata": {},
   "outputs": [],
   "source": [
    "mesh_faces_triangle_bs = gus.create.faces.box(\n",
    "    bounds=[[0, 0], [2, 2]],\n",
    "    resolutions=[3, 3],\n",
    "    simplex=True,\n",
    "    backslash=True,\n",
    ")\n",
    "mesh_faces_triangle_bs.show()"
   ]
  },
  {
   "cell_type": "code",
   "execution_count": null,
   "metadata": {},
   "outputs": [],
   "source": [
    "gus.show(\n",
    "    [\"faces-box\", mesh_faces_box],\n",
    "    [\"volumes-box\", mesh_volumes_box],\n",
    "    [\"faces-triangle\", mesh_faces_triangle],\n",
    "    [\"faces-triangle-backslash\", mesh_faces_triangle_bs],\n",
    ")"
   ]
  },
  {
   "cell_type": "code",
   "execution_count": null,
   "metadata": {},
   "outputs": [],
   "source": [
    "import splinepy"
   ]
  },
  {
   "cell_type": "code",
   "execution_count": null,
   "metadata": {},
   "outputs": [],
   "source": [
    "def CubeLinear(origin, length):\n",
    "    origin_length = origin + length\n",
    "    return splinepy.Bezier(\n",
    "        degrees=[1] * 3,\n",
    "        control_points=[\n",
    "            [origin, origin, origin],\n",
    "            [origin_length, origin, origin],\n",
    "            [origin, origin_length, origin],\n",
    "            [origin_length, origin_length, origin],\n",
    "            [origin, origin, origin_length],\n",
    "            [origin_length, origin, origin_length],\n",
    "            [origin, origin_length, origin_length],\n",
    "            [origin_length, origin_length, origin_length],\n",
    "        ],\n",
    "    )\n",
    "\n",
    "\n",
    "length_center, length_corner = 0.2, 0.1\n",
    "cube_center, cube_corner = (\n",
    "    CubeLinear(origin=0.5, length=length_center),\n",
    "    CubeLinear(origin=1.0, length=-length_corner),\n",
    ")"
   ]
  },
  {
   "cell_type": "markdown",
   "metadata": {},
   "source": [
    "The following works but looks very stupidly since the knot vector points and control points are shown much bigger than they should."
   ]
  },
  {
   "cell_type": "code",
   "execution_count": null,
   "metadata": {},
   "outputs": [],
   "source": [
    "cube_center.show_options[\"knots\"] = False\n",
    "# cube_center.show_options[\"control_points\"] = True\n",
    "# cube_center.show_options[\"control_point_ids\"] = False\n",
    "# cube_center.show_options[\"control_mesh\"] = True\n",
    "# cube_center.show_options[\"control_mesh_lw\"] = 1\n",
    "# cube_center.show_options[\"knot_lw\"] = 1\n",
    "# cube_center.show_options[\"control_point_r\"] = 1\n",
    "gus.show([\"cube-center\", cube_center])"
   ]
  },
  {
   "cell_type": "markdown",
   "metadata": {},
   "source": [
    "Plot microstructures in ipy notebook. This is currently working somewhat."
   ]
  },
  {
   "cell_type": "code",
   "execution_count": null,
   "metadata": {},
   "outputs": [],
   "source": [
    "from splinepy import microstructure\n",
    "from splinepy.io import iges\n",
    "\n",
    "turbine_blade_cross_section = iges.load(\n",
    "    \"turbineBladeCrossSectionSurrogate.iges\"\n",
    ")[0]\n",
    "turbine_blade_tiled = microstructure.Microstructure(\n",
    "    deformation_function=turbine_blade_cross_section,\n",
    "    tiling=[1, 4],\n",
    "    microtile=microstructure.tiles.Cross2D(),\n",
    ")\n",
    "turbine_blade_tiled.show(\n",
    "    resolutions=10,\n",
    "    control_points=False,\n",
    "    knots=False,\n",
    "    scalarbar=False,\n",
    "    lightning=\"off\",\n",
    ")"
   ]
  }
 ],
 "metadata": {
  "kernelspec": {
   "display_name": "Python 3 (ipykernel)",
   "language": "python",
   "name": "python3"
  },
  "language_info": {
   "codemirror_mode": {
    "name": "ipython",
    "version": 3
   },
   "file_extension": ".py",
   "mimetype": "text/x-python",
   "name": "python",
   "nbconvert_exporter": "python",
   "pygments_lexer": "ipython3",
   "version": "3.9.13"
  }
 },
 "nbformat": 4,
 "nbformat_minor": 4
}
