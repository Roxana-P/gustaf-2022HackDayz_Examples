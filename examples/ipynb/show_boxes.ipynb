{
 "cells": [
  {
   "cell_type": "code",
   "execution_count": null,
   "metadata": {},
   "outputs": [],
   "source": [
    "import gustaf as gus\n",
    "import vedo\n",
    "vedo.settings.default_backend = \"k3d\""
   ]
  },
  {
   "cell_type": "code",
   "execution_count": null,
   "metadata": {},
   "outputs": [],
   "source": [
    "mesh_faces_box = gus.create.faces.box(\n",
    "    bounds=[[0, 0], [2, 2]], resolutions=[2, 3]\n",
    ")\n",
    "mesh_faces_box.show_options[\"c\"] = 6\n",
    "a = mesh_faces_box.show()"
   ]
  },
  {
   "cell_type": "markdown",
   "metadata": {},
   "source": [
    "Volumes does not create an error anymore. Currently is exchanged to volumes.to_faces() might be able to be exchanged back to true volume plotting if vedo fixes UGrid."
   ]
  },
  {
   "cell_type": "code",
   "execution_count": null,
   "metadata": {},
   "outputs": [],
   "source": [
    "mesh_volumes_box = gus.create.volumes.box(\n",
    "        bounds=[[0.0, 0.0, 0.0], [1.0, 1.0, 1.0]], resolutions=[2, 3, 4]\n",
    "    )\n",
    "mesh_volumes_box.show()"
   ]
  },
  {
   "cell_type": "code",
   "execution_count": null,
   "metadata": {},
   "outputs": [],
   "source": [
    "mesh_faces_triangle = gus.create.faces.box(\n",
    "    bounds=[[0, 0], [2, 2]],\n",
    "    resolutions=[3, 3],\n",
    "    simplex=True,\n",
    "\n",
    ")\n",
    "mesh_faces_triangle.show()"
   ]
  },
  {
   "cell_type": "code",
   "execution_count": null,
   "metadata": {},
   "outputs": [],
   "source": [
    "mesh_faces_triangle_bs = gus.create.faces.box(\n",
    "    bounds=[[0, 0], [2, 2]],\n",
    "    resolutions=[3, 3],\n",
    "    simplex=True,\n",
    "    backslash=True,\n",
    ")\n",
    "mesh_faces_triangle_bs.show()"
   ]
  },
  {
   "cell_type": "code",
   "execution_count": null,
   "metadata": {},
   "outputs": [],
   "source": [
    "gus.show(\n",
    "    [\"faces-box\", mesh_faces_box],\n",
    "    [\"volumes-box\", mesh_volumes_box],\n",
    "    [\"faces-triangle\", mesh_faces_triangle],\n",
    "    [\"faces-triangle-backslash\", mesh_faces_triangle_bs],\n",
    ")"
   ]
  },
  {
   "cell_type": "code",
   "execution_count": null,
   "metadata": {},
   "outputs": [],
   "source": [
    "import splinepy"
   ]
  },
  {
   "cell_type": "code",
   "execution_count": null,
   "metadata": {},
   "outputs": [],
   "source": [
    "def CubeLinear(origin, length):\n",
    "    origin_length = origin + length\n",
    "    return splinepy.Bezier(degrees=[1] * 3, control_points=[[origin, origin, origin], [origin_length, origin, origin], [origin, origin_length, origin], [origin_length, origin_length, \\\n",
    "                          origin], [origin, origin, origin_length], [origin_length, origin, origin_length], [origin, origin_length, origin_length], [origin_length, origin_length, \\\n",
    "                                                                                                                                                     origin_length]])\n",
    "\n",
    "length_center, length_corner = 0.2, 0.1\n",
    "cube_center, cube_corner = CubeLinear(origin=0.5, length=length_center), CubeLinear(origin=1.0, length=-length_corner)"
   ]
  },
  {
   "cell_type": "markdown",
   "metadata": {},
   "source": [
    "The following works but looks very stupidly since the knot vector points and control points are shown much bigger than they should."
   ]
  },
  {
   "cell_type": "code",
   "execution_count": null,
   "metadata": {},
   "outputs": [],
   "source": [
    "cube_center.show_options[\"knots\"] = True\n",
    "cube_center.show_options[\"control_points\"] = False\n",
    "cube_center.show_options[\"knot_lw\"] = 1\n",
    "gus.show([\"cube-center\", cube_center], [\"cube-corner\", cube_corner])"
   ]
  },
  {
   "cell_type": "markdown",
   "metadata": {},
   "source": [
    "Plot microstructures in ipy notebook. This is currently working somewhat."
   ]
  },
  {
   "cell_type": "code",
   "execution_count": null,
   "metadata": {},
   "outputs": [],
   "source": [
    "from splinepy import microstructure\n",
    "from splinepy.io import iges\n",
    "\n",
    "turbine_blade_cross_section = iges.load(\"turbineBladeCrossSectionSurrogate.iges\")[0]\n",
    "turbine_blade_tiled = microstructure.Microstructure(deformation_function=turbine_blade_cross_section, tiling=[1, 4],\n",
    "                                                    microtile=microstructure.tiles.Cross2D())\n",
    "turbine_blade_tiled.show(resolutions=10, control_points=False, knots=False, scalarbar=False, lightning=\"off\")"
   ]
  }
 ],
 "metadata": {
  "kernelspec": {
   "display_name": "Python 3 (ipykernel)",
   "language": "python",
   "name": "python3"
  },
  "language_info": {
   "codemirror_mode": {
    "name": "ipython",
    "version": 3
   },
   "file_extension": ".py",
   "mimetype": "text/x-python",
   "name": "python",
   "nbconvert_exporter": "python",
   "pygments_lexer": "ipython3",
   "version": "3.9.13"
  }
 },
 "nbformat": 4,
 "nbformat_minor": 4
}
